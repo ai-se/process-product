{
 "cells": [
  {
   "cell_type": "markdown",
   "metadata": {},
   "source": [
    "# Libraries"
   ]
  },
  {
   "cell_type": "code",
   "execution_count": 1,
   "metadata": {},
   "outputs": [],
   "source": [
    "import pandas as pd\n",
    "import numpy as np\n",
    "from scipy import stats\n",
    "import scipy.io\n",
    "from scipy.spatial.distance import pdist\n",
    "from scipy.linalg import cholesky\n",
    "import matlab.engine as engi\n",
    "import matlab as mat\n",
    "import math\n",
    "from sklearn.linear_model import LogisticRegression\n",
    "from sklearn.metrics import classification_report\n",
    "from scipy.io import loadmat"
   ]
  },
  {
   "cell_type": "markdown",
   "metadata": {},
   "source": [
    "# Start matlab service"
   ]
  },
  {
   "cell_type": "code",
   "execution_count": 2,
   "metadata": {},
   "outputs": [],
   "source": [
    "eng = engi.start_matlab()"
   ]
  },
  {
   "cell_type": "markdown",
   "metadata": {},
   "source": [
    "# variables"
   ]
  },
  {
   "cell_type": "code",
   "execution_count": 3,
   "metadata": {},
   "outputs": [],
   "source": [
    "source_data_path = 'data/Relink/Apache/Apache.csv'\n",
    "target_data_path = 'data/Jureczko/ant/ant-1.7.csv'\n",
    "result_path = 'result/result.csv'\n",
    "repeats = 20\n",
    "ratio = 0.1\n",
    "lrank = 70\n",
    "reg = 1E-5"
   ]
  },
  {
   "cell_type": "markdown",
   "metadata": {},
   "source": [
    "# Data loading and Normalizing Data"
   ]
  },
  {
   "cell_type": "code",
   "execution_count": 4,
   "metadata": {},
   "outputs": [],
   "source": [
    "def load_data(path):\n",
    "    df = pd.read_csv(path)\n",
    "    df_columns = df.columns\n",
    "    _temp = []\n",
    "    for col in df_columns:\n",
    "        col = col.replace('$','')\n",
    "        col = col.replace('>','')\n",
    "        col = col.replace('<','')\n",
    "        _temp.append(col)\n",
    "    df.columns = _temp\n",
    "    return df\n",
    "\n",
    "def normalize_data(df,target_class):\n",
    "    y = df[target_class]\n",
    "    X = df.drop(target_class,axis = 1)\n",
    "    df_columns = X.columns\n",
    "    df_mat = stats.zscore(X.values.tolist())\n",
    "    df = pd.DataFrame(df_mat,columns = df_columns)\n",
    "#     df = pd.concat([df,y],axis = 1)\n",
    "    return df,y"
   ]
  },
  {
   "cell_type": "code",
   "execution_count": 5,
   "metadata": {},
   "outputs": [
    {
     "name": "stdout",
     "output_type": "stream",
     "text": [
      "(194, 26) (745, 20)\n"
     ]
    }
   ],
   "source": [
    "source_df = load_data(source_data_path)\n",
    "target_df = load_data(target_data_path)\n",
    "\n",
    "source_X,source_y = normalize_data(source_df,'Defects')\n",
    "target_X,target_y = normalize_data(target_df,'bug')\n",
    "print(source_X.shape,target_X.shape)"
   ]
  },
  {
   "cell_type": "markdown",
   "metadata": {},
   "source": [
    "# set up kernel"
   ]
  },
  {
   "cell_type": "code",
   "execution_count": 6,
   "metadata": {},
   "outputs": [],
   "source": [
    "def set_kernel(df):\n",
    "    dist = pdist(df)\n",
    "    sigma = np.mean(dist)\n",
    "    kernel = {'kernel_type':'gauss','kernel_parameter':round(1/sigma,4)}\n",
    "    return kernel"
   ]
  },
  {
   "cell_type": "code",
   "execution_count": 7,
   "metadata": {},
   "outputs": [],
   "source": [
    "source_df_kernel = set_kernel(source_X)\n",
    "target_df_kernel = set_kernel(target_X)"
   ]
  },
  {
   "cell_type": "markdown",
   "metadata": {},
   "source": [
    "# decomposing kernel correlation metrics"
   ]
  },
  {
   "cell_type": "markdown",
   "metadata": {},
   "source": [
    "## python substitution"
   ]
  },
  {
   "cell_type": "code",
   "execution_count": null,
   "metadata": {},
   "outputs": [],
   "source": [
    "def km_kernel(X1,X2,kernel_type,kernel_paramater):\n",
    "    if kernel_type == 'gauss':\n",
    "        sgm = kernel_paramater # kernel width\n",
    "        dim1 = X1.shape[0]\n",
    "        dim2 = X2.shape[0]\n",
    "        norms1 = np.sum(X1**2)\n",
    "        norms2 = np.sum(X2**2)\n",
    "        mat1 = np.ndarray(shape=(1,dim2))\n",
    "        mat1 = norms1\n",
    "        mat2 = np.ndarray(shape=(dim1,1))\n",
    "        mat2 = norms2\n",
    "    elif kernel_type == 'gauss-diag':\n",
    "        sgm = kernel_paramater\n",
    "        X1 = np.array(X1)\n",
    "        X2 = np.array(X2)\n",
    "        _pow = np.sum((X1-X2)**2,axis = 1)/(2*sgm**2)\n",
    "        K = np.exp(-_pow.astype(int))\n",
    "#         K = K.reshape((K.shape[0],1))\n",
    "        print(K.shape)\n",
    "    return K\n",
    "\n",
    "def km_kernel_icd(X,kernel,lrank):\n",
    "    kernel_type = kernel['kernel_type']\n",
    "    kernel_paramater = kernel['kernel_parameter']\n",
    "    n = X.shape[0]\n",
    "    precision = 10**-6\n",
    "    d = np.zeros((n,))  # diagonal of the residual kernel matrix\n",
    "    G = np.zeros((n,lrank))\n",
    "    subset = np.zeros((lrank,))\n",
    "    perm = np.arange(n)\n",
    "    for i in range(lrank):\n",
    "        x = X[i:n]\n",
    "        if i == 0:\n",
    "            d[i:n] = km_kernel(x,x,kernel_type+'-diag',kernel_paramater)\n",
    "            \n",
    "        else:\n",
    "            d[i:n] = km_kernel(x,x,kernel_type+'-diag',kernel_paramater) - np.sum(G[i:n,0:i]**2,axis = 1)\n",
    "        \n",
    "        dtrace = np.sum(d[i:n])\n",
    "        \n",
    "        if  dtrace <= 0:\n",
    "            print('Negative diagonal entry', dtrace)\n",
    "            \n",
    "        if  dtrace <= precision:\n",
    "            G[:,i:] = []\n",
    "            subset[i:] = []\n",
    "            break\n",
    "            \n",
    "        m2 = max(d[i:n])\n",
    "        j = np.where(d[i:n] == m2)[0][0]\n",
    "        print(i,j)\n",
    "        j = j + i\n",
    "        print(i,j)\n",
    "        m1 = m2**0.5\n",
    "        subset[j] = j\n",
    "        \n",
    "        temp = perm[i]\n",
    "        perm[i] = perm[j]\n",
    "        perm[j] = temp\n",
    "        # incomplete\n",
    "        \n",
    "        \n",
    "def conKernelMatrix(source_X,target_X,source_df_kernel,target_df_kernel,lrank):\n",
    "    source_X_size = source_X.shape[0]\n",
    "    target_X_size = target_X.shape[0]\n",
    "    \n",
    "\n",
    "    \n",
    "    "
   ]
  },
  {
   "cell_type": "markdown",
   "metadata": {},
   "source": [
    "## Matlab integration"
   ]
  },
  {
   "cell_type": "code",
   "execution_count": 13,
   "metadata": {},
   "outputs": [],
   "source": [
    "def\n",
    "\n",
    "\n",
    "mat_source_df = mat.double(source_df.values.T.tolist())\n",
    "mat_target_df = mat.double(target_df.values.T.tolist())\n",
    "X = eng.CTKCCA(mat_source_df,mat_target_df,nargout=4)\n",
    "train_X,train_y,test_X,test_y = np.array(X[0])"
   ]
  },
  {
   "cell_type": "code",
   "execution_count": null,
   "metadata": {},
   "outputs": [],
   "source": []
  },
  {
   "cell_type": "code",
   "execution_count": null,
   "metadata": {},
   "outputs": [],
   "source": [
    "clf = LogisticRegression()\n",
    "clf.fit(G1,source_y)"
   ]
  },
  {
   "cell_type": "code",
   "execution_count": null,
   "metadata": {},
   "outputs": [],
   "source": [
    "predicted = clf.predict(G2)\n",
    "print(classification_report(target_y, predicted))"
   ]
  },
  {
   "cell_type": "code",
   "execution_count": null,
   "metadata": {},
   "outputs": [],
   "source": [
    "source_df_y = source_df.Defects\n",
    "source_df_X = source_df.drop('Defects',axis = 1)"
   ]
  },
  {
   "cell_type": "code",
   "execution_count": null,
   "metadata": {},
   "outputs": [],
   "source": [
    "source_df.values.T.tolist()"
   ]
  },
  {
   "cell_type": "code",
   "execution_count": null,
   "metadata": {},
   "outputs": [],
   "source": []
  }
 ],
 "metadata": {
  "kernelspec": {
   "display_name": "Python 3",
   "language": "python",
   "name": "python3"
  },
  "language_info": {
   "codemirror_mode": {
    "name": "ipython",
    "version": 3
   },
   "file_extension": ".py",
   "mimetype": "text/x-python",
   "name": "python",
   "nbconvert_exporter": "python",
   "pygments_lexer": "ipython3",
   "version": "3.7.3"
  }
 },
 "nbformat": 4,
 "nbformat_minor": 2
}
