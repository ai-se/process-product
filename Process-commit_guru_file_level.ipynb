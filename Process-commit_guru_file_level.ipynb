{
 "cells": [
  {
   "cell_type": "code",
   "execution_count": 1,
   "metadata": {},
   "outputs": [],
   "source": [
    "import pandas as pd\n",
    "import numpy as np\n",
    "import math\n",
    "import pickle\n",
    "\n",
    "from scipy import stats\n",
    "import scipy.io\n",
    "from scipy.spatial.distance import pdist\n",
    "from scipy.linalg import cholesky\n",
    "from scipy.io import loadmat\n",
    "\n",
    "import matlab.engine as engi\n",
    "import matlab as mat\n",
    "\n",
    "from sklearn.linear_model import LogisticRegression\n",
    "from sklearn.metrics import classification_report\n",
    "from sklearn.naive_bayes import GaussianNB\n",
    "from sklearn.svm import SVC\n",
    "from sklearn.metrics import classification_report,roc_auc_score,recall_score,precision_score\n",
    "from sklearn.model_selection import train_test_split\n",
    "from sklearn.preprocessing import MinMaxScaler\n",
    "from sklearn.ensemble import RandomForestClassifier\n",
    "from sklearn.decomposition import PCA\n",
    "from pyearth import Earth\n",
    "\n",
    "from src import SMOTE\n",
    "from src import CFS\n",
    "from src import metrices_V2 as metrices\n",
    "\n",
    "import platform\n",
    "from os import listdir\n",
    "from os.path import isfile, join\n",
    "from glob import glob\n",
    "from pathlib import Path\n",
    "import sys\n",
    "import os\n",
    "import copy\n",
    "import traceback\n",
    "from pathlib import Path\n",
    "\n",
    "import matplotlib.pyplot as plt"
   ]
  },
  {
   "cell_type": "code",
   "execution_count": 124,
   "metadata": {},
   "outputs": [],
   "source": [
    "def load_data(project):\n",
    "    understand_path = 'data/understand_files_all/' + project + '_understand.csv'\n",
    "    understand_df = pd.read_csv(understand_path)\n",
    "    commits = understand_df.commit_hash.unique()\n",
    "    commit_guru_file_level_path = 'data/commit_guru_file_level/' + project + '_file.csv'\n",
    "    commit_guru_path = 'data/commit_guru/' + project + '.csv'\n",
    "    commit_guru_file_level_df = pd.read_csv(commit_guru_file_level_path)\n",
    "    commit_guru_file_level_df['commit_hash'] = commit_guru_file_level_df.commit_hash.str.strip('\"')\n",
    "    commit_guru_df = pd.read_csv(commit_guru_path)\n",
    "    commit_guru_df = commit_guru_df[['commit_hash','contains_bug']]\n",
    "    values = {'contains_bug': False}\n",
    "    commit_guru_df = commit_guru_df.fillna(values)\n",
    "    df = commit_guru_file_level_df.merge(commit_guru_df,on='commit_hash') \n",
    "    df.rename(columns={\"contains_bug\": \"Bugs\"},inplace=True)\n",
    "    df = df[df['file_name'].str.contains('.java')]\n",
    "#     df = df[df.commit_hash.isin(commits)]\n",
    "#     print(df)\n",
    "    df = df.drop(['commit_hash','file_name'],axis = 1)\n",
    "    df.dropna(inplace=True)\n",
    "    df.reset_index(drop=True, inplace=True)\n",
    "    df = df.drop_duplicates()\n",
    "    y = df.Bugs\n",
    "    X = df.drop('Bugs',axis = 1)\n",
    "    cols = X.columns\n",
    "    scaler = MinMaxScaler()\n",
    "    X = scaler.fit_transform(X)\n",
    "    X = pd.DataFrame(X,columns = cols)\n",
    "    return X,y\n",
    "\n",
    "def apply_smote(df):\n",
    "    cols = df.columns\n",
    "    smt = SMOTE.smote(df)\n",
    "    df = smt.run()\n",
    "    df.columns = cols\n",
    "    return df\n",
    "\n",
    "def apply_cfs(df):\n",
    "        y = df.Bugs.values\n",
    "        X = df.drop(labels = ['Bugs'],axis = 1)\n",
    "        X = X.values\n",
    "        selected_cols = CFS.cfs(X,y)\n",
    "        cols = df.columns[[selected_cols]].tolist()\n",
    "        cols.append('Bugs')\n",
    "        return df[cols],cols"
   ]
  },
  {
   "cell_type": "code",
   "execution_count": 120,
   "metadata": {
    "scrolled": true
   },
   "outputs": [],
   "source": [
    "def run_self(project):\n",
    "    X,y = load_data(project)\n",
    "    X_train, X_test, y_train, y_test = train_test_split(X, y, test_size=0.40, random_state=18)\n",
    "    loc = X_test['la'] + X_test['lt']\n",
    "    df_smote = pd.concat([X_train,y_train],axis = 1)\n",
    "    df_smote = apply_smote(df_smote)\n",
    "    y_train = df_smote.Bugs\n",
    "    X_train = df_smote.drop('Bugs',axis = 1)\n",
    "    clf = RandomForestClassifier()\n",
    "    clf.fit(X_train,y_train)\n",
    "    importance = clf.feature_importances_\n",
    "    print(importance)\n",
    "    predicted = clf.predict(X_test)\n",
    "    abcd = metrices.measures(y_test,predicted,loc)\n",
    "    pf = abcd.get_pf()\n",
    "    recall = abcd.calculate_recall()\n",
    "    precision = abcd.calculate_precision()\n",
    "    f1 = abcd.calculate_f1_score()\n",
    "    g_score = abcd.get_g_score()\n",
    "    pci_20 = abcd.get_pci_20()\n",
    "    ifa = abcd.get_ifa()\n",
    "    try:\n",
    "        auc = roc_auc_score(y_test, predicted)\n",
    "    except:\n",
    "        auc = 0\n",
    "    print(classification_report(y_test, predicted))\n",
    "    return recall,precision,pf,f1,g_score,auc,pci_20,ifa,importance"
   ]
  },
  {
   "cell_type": "code",
   "execution_count": 93,
   "metadata": {},
   "outputs": [],
   "source": [
    "def run_self_CFS(project):\n",
    "    X,y = load_data(project)\n",
    "    X_train, X_test, y_train, y_test = train_test_split(X, y, test_size=0.40, random_state=18)\n",
    "    loc = X_test['la'] + X_test['lt']\n",
    "    df_smote = pd.concat([X_train,y_train],axis = 1)\n",
    "    df_smote = apply_smote(df_smote)\n",
    "    df_smote,cols = apply_cfs(df_smote)\n",
    "    y_train = df_smote.Bugs\n",
    "    X_train = df_smote.drop('Bugs',axis = 1)\n",
    "    clf = RandomForestClassifier()\n",
    "    clf.fit(X_train,y_train)\n",
    "    predicted = clf.predict(X_test[cols[:-1]])\n",
    "    abcd = metrices.measures(y_test,predicted,loc)\n",
    "    pf = abcd.get_pf()\n",
    "    recall = abcd.calculate_recall()\n",
    "    precision = abcd.calculate_precision()\n",
    "    f1 = abcd.calculate_f1_score()\n",
    "    g_score = abcd.get_g_score()\n",
    "    pci_20 = abcd.get_pci_20()\n",
    "    ifa = abcd.get_ifa()\n",
    "    try:\n",
    "        auc = roc_auc_score(y_test, predicted)\n",
    "    except:\n",
    "        auc = 0\n",
    "    print(classification_report(y_test, predicted))\n",
    "    return recall,precision,pf,f1,g_score,auc,pci_20,ifa"
   ]
  },
  {
   "cell_type": "code",
   "execution_count": 116,
   "metadata": {},
   "outputs": [],
   "source": [
    "proj_df = pd.read_csv('projects.csv')\n",
    "projects = proj_df.repo_name.tolist()"
   ]
  },
  {
   "cell_type": "code",
   "execution_count": 125,
   "metadata": {},
   "outputs": [
    {
     "name": "stdout",
     "output_type": "stream",
     "text": [
      "+++++++++++++++++   exhibitor  +++++++++++++++++\n",
      "[0.11345626 0.05016715 0.06854963 0.10692013 0.02534012 0.06559862\n",
      " 0.         0.22679989 0.18870929 0.1544589  0.        ]\n",
      "              precision    recall  f1-score   support\n",
      "\n",
      "       False       0.86      0.89      0.87       432\n",
      "        True       0.86      0.83      0.84       358\n",
      "\n",
      "    accuracy                           0.86       790\n",
      "   macro avg       0.86      0.86      0.86       790\n",
      "weighted avg       0.86      0.86      0.86       790\n",
      "\n"
     ]
    }
   ],
   "source": [
    "precision_list = {}\n",
    "recall_list = {}\n",
    "pf_list = {}\n",
    "f1_list = {}\n",
    "g_list = {}\n",
    "auc_list = {}\n",
    "pci_20_list = {}\n",
    "ifa_list = {}\n",
    "featue_importance = {}\n",
    "for project in projects:\n",
    "    try:\n",
    "        if project == '.DS_Store':\n",
    "            continue\n",
    "        if project != 'exhibitor':\n",
    "            continue\n",
    "        print(\"+++++++++++++++++   \"  + project + \"  +++++++++++++++++\")\n",
    "        recall,precision,pf,f1,g_score,auc,pci_20,ifa,importance = run_self(project)\n",
    "        recall_list[project] = recall\n",
    "        precision_list[project] = precision\n",
    "        pf_list[project] = pf\n",
    "        f1_list[project] = f1\n",
    "        g_list[project] = g_score\n",
    "        auc_list[project] = auc\n",
    "        pci_20_list[project] = pci_20\n",
    "        ifa_list[project] = ifa\n",
    "        featue_importance[project] = importance\n",
    "    except Exception as e:\n",
    "        print(e)\n",
    "        continue\n",
    "final_result = {}\n",
    "final_result['precision'] = precision_list\n",
    "final_result['recall'] = recall_list\n",
    "final_result['pf'] = pf_list\n",
    "final_result['f1'] = f1_list\n",
    "final_result['g'] = g_list\n",
    "final_result['auc'] = auc_list\n",
    "final_result['pci_20'] = pci_20_list\n",
    "final_result['ifa'] = ifa_list\n",
    "final_result['featue_importance'] = featue_importance\n",
    "# with open('results/Performance/commit_guru_file_specific/process_1000.pkl', 'wb') as handle:\n",
    "#     pickle.dump(final_result, handle, protocol=pickle.HIGHEST_PROTOCOL)"
   ]
  },
  {
   "cell_type": "code",
   "execution_count": 101,
   "metadata": {},
   "outputs": [
    {
     "data": {
      "text/plain": [
       "0.02"
      ]
     },
     "execution_count": 101,
     "metadata": {},
     "output_type": "execute_result"
    }
   ],
   "source": [
    "np.nanmedian(list(final_result['pf'].values()))"
   ]
  },
  {
   "cell_type": "code",
   "execution_count": 109,
   "metadata": {},
   "outputs": [],
   "source": [
    "df = pd.read_pickle('results/Performance/commit_guru_file_specific/process_1000.pkl')"
   ]
  },
  {
   "cell_type": "code",
   "execution_count": 111,
   "metadata": {},
   "outputs": [
    {
     "data": {
      "text/plain": [
       "0.91"
      ]
     },
     "execution_count": 111,
     "metadata": {},
     "output_type": "execute_result"
    }
   ],
   "source": [
    "np.median(list(df['recall'].values()))"
   ]
  },
  {
   "cell_type": "code",
   "execution_count": null,
   "metadata": {},
   "outputs": [],
   "source": []
  }
 ],
 "metadata": {
  "kernelspec": {
   "display_name": "Python 3",
   "language": "python",
   "name": "python3"
  },
  "language_info": {
   "codemirror_mode": {
    "name": "ipython",
    "version": 3
   },
   "file_extension": ".py",
   "mimetype": "text/x-python",
   "name": "python",
   "nbconvert_exporter": "python",
   "pygments_lexer": "ipython3",
   "version": "3.7.3"
  }
 },
 "nbformat": 4,
 "nbformat_minor": 2
}
