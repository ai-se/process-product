{
 "cells": [
  {
   "cell_type": "code",
   "execution_count": 1,
   "metadata": {},
   "outputs": [
    {
     "ename": "ModuleNotFoundError",
     "evalue": "No module named 'seaborn'",
     "output_type": "error",
     "traceback": [
      "\u001b[0;31m---------------------------------------------------------------------------\u001b[0m",
      "\u001b[0;31mModuleNotFoundError\u001b[0m                       Traceback (most recent call last)",
      "\u001b[0;32m<ipython-input-1-6c6fdacc9e02>\u001b[0m in \u001b[0;36m<module>\u001b[0;34m\u001b[0m\n\u001b[1;32m     40\u001b[0m \u001b[0;34m\u001b[0m\u001b[0m\n\u001b[1;32m     41\u001b[0m \u001b[0;32mimport\u001b[0m \u001b[0mmatplotlib\u001b[0m\u001b[0;34m.\u001b[0m\u001b[0mpyplot\u001b[0m \u001b[0;32mas\u001b[0m \u001b[0mplt\u001b[0m\u001b[0;34m\u001b[0m\u001b[0;34m\u001b[0m\u001b[0m\n\u001b[0;32m---> 42\u001b[0;31m \u001b[0;32mimport\u001b[0m \u001b[0mseaborn\u001b[0m \u001b[0;32mas\u001b[0m \u001b[0msns\u001b[0m\u001b[0;34m\u001b[0m\u001b[0;34m\u001b[0m\u001b[0m\n\u001b[0m",
      "\u001b[0;31mModuleNotFoundError\u001b[0m: No module named 'seaborn'"
     ]
    }
   ],
   "source": [
    "import pandas as pd\n",
    "import numpy as np\n",
    "import math\n",
    "import pickle\n",
    "\n",
    "from scipy import stats\n",
    "import scipy.io\n",
    "from scipy.spatial.distance import pdist\n",
    "from scipy.linalg import cholesky\n",
    "from scipy.io import loadmat\n",
    "\n",
    "import matlab.engine as engi\n",
    "import matlab as mat\n",
    "\n",
    "from sklearn.linear_model import LogisticRegression\n",
    "from sklearn.metrics import classification_report\n",
    "from sklearn.naive_bayes import GaussianNB\n",
    "from sklearn.svm import SVC\n",
    "from sklearn.metrics import classification_report,roc_auc_score,recall_score,precision_score\n",
    "from sklearn.model_selection import train_test_split\n",
    "from sklearn.preprocessing import MinMaxScaler\n",
    "from sklearn.ensemble import RandomForestClassifier\n",
    "from sklearn.decomposition import PCA\n",
    "from pyearth import Earth\n",
    "\n",
    "from src import SMOTE\n",
    "from src import CFS\n",
    "from src import metrices_V2 as metrices\n",
    "\n",
    "import platform\n",
    "from os import listdir\n",
    "from os.path import isfile, join\n",
    "from glob import glob\n",
    "from pathlib import Path\n",
    "import sys\n",
    "import os\n",
    "import copy\n",
    "import traceback\n",
    "from pathlib import Path\n",
    "\n",
    "import matplotlib.pyplot as plt\n",
    "import seaborn as sns"
   ]
  },
  {
   "cell_type": "markdown",
   "metadata": {},
   "source": [
    "# Data Load and other util function"
   ]
  },
  {
   "cell_type": "code",
   "execution_count": 3,
   "metadata": {},
   "outputs": [],
   "source": [
    "def load_data(project):\n",
    "    understand_path = 'data/understand_files_all/' + project + '_understand.csv'\n",
    "    commit_guru_path = 'data/commit_guru/' + project + '.csv'\n",
    "    understand_df = pd.read_csv(understand_path)\n",
    "    understand_df = understand_df.dropna(axis = 1,how='all')\n",
    "    cols_list = understand_df.columns.values.tolist()\n",
    "    for item in ['Kind', 'Name','commit_hash', 'Bugs']:\n",
    "        if item in cols_list:\n",
    "            cols_list.remove(item)\n",
    "            cols_list.insert(0,item)\n",
    "    understand_df = understand_df[cols_list]\n",
    "    commit_guru_df = pd.read_csv(commit_guru_path)\n",
    "    cols = understand_df.columns.tolist()\n",
    "    \n",
    "    commit_guru_df = commit_guru_df.drop(labels = ['parent_hashes','author_name','author_name',\n",
    "                                                   'author_email','fileschanged','author_date',\n",
    "                                                   'author_date_unix_timestamp', 'commit_message',\n",
    "                                                  'classification', 'fix', 'contains_bug','fixes',],axis=1)\n",
    "    commit_cols = commit_guru_df.columns.values.tolist()\n",
    "    df = understand_df.merge(commit_guru_df,on='commit_hash')\n",
    "    cols = df.columns.tolist()\n",
    "    cols = cols[1:] + [cols[0]]\n",
    "    df = df[cols]\n",
    "    for item in ['Kind','commit_hash']:\n",
    "        if item in cols:\n",
    "            df = df.drop(labels = [item],axis=1)\n",
    "    commit_cols.remove('commit_hash')\n",
    "    commit_cols.append('Name')\n",
    "    commit_cols.append('Bugs')\n",
    "    df = df[commit_cols]\n",
    "    df.dropna(inplace=True)\n",
    "    df.reset_index(drop=True, inplace=True)\n",
    "    \n",
    "    return df\n",
    "\n",
    "def apply_smote(df):\n",
    "    cols = df.columns\n",
    "    smt = SMOTE.smote(df)\n",
    "    df = smt.run()\n",
    "    df.columns = cols\n",
    "    return df\n",
    "\n",
    "def apply_cfs(df):\n",
    "        y = df.Bugs.values\n",
    "        X = df.drop(labels = ['Bugs'],axis = 1)\n",
    "        X = X.values\n",
    "        selected_cols = CFS.cfs(X,y)\n",
    "        cols = df.columns[[selected_cols]].tolist()\n",
    "        cols.append('Bugs')\n",
    "        return df[cols],cols\n",
    "\n",
    "def get_spearmanr(df):\n",
    "    df = df.drop('Bugs',axis = 1)\n",
    "    file_corr = []\n",
    "    for name in df.Name.unique():\n",
    "        sub_df = df[df['Name'] == name]\n",
    "        if sub_df.shape[0] < 2:\n",
    "            continue\n",
    "        sub_df = sub_df.drop('Name',axis = 1)\n",
    "        rho, pval = stats.spearmanr(sub_df.values,sub_df.values,axis = 1)\n",
    "        file_corr.append(np.median(rho[:,:int(len(rho)/2)]))\n",
    "    return file_corr"
   ]
  },
  {
   "cell_type": "markdown",
   "metadata": {},
   "source": [
    "# Getting List of projects"
   ]
  },
  {
   "cell_type": "code",
   "execution_count": 4,
   "metadata": {},
   "outputs": [],
   "source": [
    "proj_df = pd.read_csv('projects.csv')\n",
    "projects = proj_df.repo_name.tolist()"
   ]
  },
  {
   "cell_type": "markdown",
   "metadata": {},
   "source": [
    "# Run the experiment"
   ]
  },
  {
   "cell_type": "code",
   "execution_count": 5,
   "metadata": {},
   "outputs": [
    {
     "name": "stdout",
     "output_type": "stream",
     "text": [
      "+++++++++++++++++   org.alloytools.alloy  +++++++++++++++++\n",
      "1.0\n",
      "+++++++++++++++++   qpython  +++++++++++++++++\n",
      "0.8975244475938271\n",
      "+++++++++++++++++   friendlychat-android  +++++++++++++++++\n",
      "1.0\n",
      "+++++++++++++++++   paho.mqtt.android  +++++++++++++++++\n",
      "0.7546888753310097\n",
      "+++++++++++++++++   paho.mqtt.java  +++++++++++++++++\n",
      "0.5146208533181836\n",
      "+++++++++++++++++   android-docs-samples  +++++++++++++++++\n",
      "0.9545438358063261\n",
      "+++++++++++++++++   Toasty  +++++++++++++++++\n",
      "0.7712123747458672\n",
      "+++++++++++++++++   android-mvvm-architecture  +++++++++++++++++\n",
      "0.9452188332459757\n",
      "+++++++++++++++++   recipes-rss  +++++++++++++++++\n",
      "0.6049739778208676\n",
      "+++++++++++++++++   HoloGraphLibrary  +++++++++++++++++\n",
      "nan\n",
      "+++++++++++++++++   HorizontalWheelView  +++++++++++++++++\n",
      "0.8972417571861557\n",
      "+++++++++++++++++   OpenMemories-Tweak  +++++++++++++++++\n",
      "0.8848279522740883\n",
      "+++++++++++++++++   HoldingButton  +++++++++++++++++\n",
      "0.9800554747759365\n",
      "+++++++++++++++++   ExpandableLayout  +++++++++++++++++\n",
      "0.7620056497175142\n",
      "+++++++++++++++++   RecyclerView-MultipleViewTypesAdapter  +++++++++++++++++\n",
      "0.8011095679598572\n",
      "+++++++++++++++++   UpdateApp  +++++++++++++++++\n",
      "0.4404422992739813\n",
      "+++++++++++++++++   activate-power-mode  +++++++++++++++++\n",
      "0.4597659618886716\n",
      "+++++++++++++++++   JDAddressSelector  +++++++++++++++++\n",
      "0.7968125554973171\n",
      "+++++++++++++++++   android-ago  +++++++++++++++++\n",
      "0.8103846257559483\n",
      "+++++++++++++++++   cordova-plugin-streaming-media  +++++++++++++++++\n",
      "0.8865926413116155\n",
      "+++++++++++++++++   birt  +++++++++++++++++\n",
      "0.8011171991592533\n",
      "+++++++++++++++++   arquillian-examples  +++++++++++++++++\n",
      "0.6291208791208791\n",
      "+++++++++++++++++   dex-method-counts  +++++++++++++++++\n",
      "0.8635399011289319\n",
      "+++++++++++++++++   google-authenticator-android  +++++++++++++++++\n",
      "0.9758610816162219\n",
      "+++++++++++++++++   android-samples  +++++++++++++++++\n",
      "0.8640984481032981\n",
      "+++++++++++++++++   PLDroidMediaStreaming  +++++++++++++++++\n",
      "nan\n",
      "+++++++++++++++++   hacktoberfest-2019  +++++++++++++++++\n",
      "0.47012327985571406\n",
      "+++++++++++++++++   egit-github  +++++++++++++++++\n",
      "0.8609662174906283\n",
      "+++++++++++++++++   Hello-World  +++++++++++++++++\n",
      "0.33999753465492527\n",
      "+++++++++++++++++   API-NG-sample-code  +++++++++++++++++\n",
      "0.5076104635134925\n",
      "+++++++++++++++++   openshift-quickstarts  +++++++++++++++++\n",
      "0.9970887856713804\n",
      "+++++++++++++++++   http-request  +++++++++++++++++\n",
      "0.908366370973105\n",
      "+++++++++++++++++   NumberProgressBar  +++++++++++++++++\n",
      "0.5661630924019206\n",
      "+++++++++++++++++   eclipse.jdt.ls  +++++++++++++++++\n",
      "0.6203403746939908\n",
      "+++++++++++++++++   portfolio  +++++++++++++++++\n",
      "0.8504187752565076\n",
      "+++++++++++++++++   DataSphereStudio  +++++++++++++++++\n",
      "1.0\n",
      "+++++++++++++++++   mapstruct-examples  +++++++++++++++++\n",
      "0.8204425873158415\n",
      "+++++++++++++++++   amazon-kinesis-connectors  +++++++++++++++++\n",
      "0.8732782369146005\n",
      "+++++++++++++++++   Android-ExpandIcon  +++++++++++++++++\n",
      "0.7472971555372288\n",
      "+++++++++++++++++   MyLittleCanvas  +++++++++++++++++\n",
      "0.8004309858182233\n",
      "+++++++++++++++++   Dachshund-Tab-Layout  +++++++++++++++++\n",
      "0.3602921891043698\n",
      "+++++++++++++++++   Pix-EzViewer  +++++++++++++++++\n",
      "0.9175824175824175\n",
      "+++++++++++++++++   FastScroll  +++++++++++++++++\n",
      "0.8275869941378242\n",
      "+++++++++++++++++   recyclerviewhelper  +++++++++++++++++\n",
      "0.9766171549882948\n",
      "+++++++++++++++++   MaterialFavoriteButton  +++++++++++++++++\n",
      "0.8849268306934438\n",
      "+++++++++++++++++   MaterialPreferenceLibrary  +++++++++++++++++\n",
      "0.953042310384789\n",
      "+++++++++++++++++   CircleSeekbar  +++++++++++++++++\n",
      "0.616871209592735\n",
      "+++++++++++++++++   TaskScheduler  +++++++++++++++++\n",
      "0.9031121429795245\n",
      "+++++++++++++++++   TextLayoutBuilder  +++++++++++++++++\n",
      "0.6206806669762855\n",
      "+++++++++++++++++   BubbleView  +++++++++++++++++\n",
      "0.9353516413972401\n",
      "+++++++++++++++++   Mappedbus  +++++++++++++++++\n",
      "0.9283746556473829\n",
      "+++++++++++++++++   project-rome  +++++++++++++++++\n",
      "0.5658528902738169\n",
      "+++++++++++++++++   sbt-android  +++++++++++++++++\n",
      "0.9230769230769231\n",
      "+++++++++++++++++   openhab-core  +++++++++++++++++\n",
      "0.47551210266551514\n",
      "+++++++++++++++++   ReLinker  +++++++++++++++++\n",
      "0.38842975206611574\n",
      "+++++++++++++++++   Moss  +++++++++++++++++\n",
      "0.48131548447973294\n",
      "+++++++++++++++++   HackerRank  +++++++++++++++++\n",
      "0.46329537894392814\n",
      "+++++++++++++++++   MifareClassicTool  +++++++++++++++++\n",
      "0.6464088397790055\n",
      "+++++++++++++++++   RxJava2-Android-Samples  +++++++++++++++++\n",
      "0.739010989010989\n",
      "+++++++++++++++++   project-examples  +++++++++++++++++\n",
      "0.18642951616739395\n",
      "+++++++++++++++++   rx-preferences  +++++++++++++++++\n",
      "0.8598904866069302\n",
      "+++++++++++++++++   crystal-range-seekbar  +++++++++++++++++\n",
      "0.9311330097928056\n",
      "+++++++++++++++++   restcountries  +++++++++++++++++\n",
      "0.887934066080343\n",
      "+++++++++++++++++   DataFixerUpper  +++++++++++++++++\n",
      "0.7906801807628476\n",
      "+++++++++++++++++   apk-dependency-graph  +++++++++++++++++\n",
      "0.6698346587474047\n",
      "+++++++++++++++++   PDFLayoutTextStripper  +++++++++++++++++\n",
      "0.7338554570810384\n",
      "+++++++++++++++++   morphy-toolbar  +++++++++++++++++\n",
      "0.7514699434506708\n",
      "+++++++++++++++++   circular-music-progressbar  +++++++++++++++++\n",
      "0.757727560847766\n",
      "+++++++++++++++++   ExoPlayerFilter  +++++++++++++++++\n",
      "0.6467840593704292\n",
      "+++++++++++++++++   UserGuideView  +++++++++++++++++\n",
      "0.8353658233892716\n",
      "+++++++++++++++++   sqlite-android  +++++++++++++++++\n",
      "0.7625135422094402\n",
      "+++++++++++++++++   SuperListview  +++++++++++++++++\n",
      "0.712121212121212\n",
      "+++++++++++++++++   Canvas2ImagePlugin  +++++++++++++++++\n",
      "'commit_hash'\n",
      "+++++++++++++++++   Algorithms-Hacktoberfest  +++++++++++++++++\n",
      "0.6053920516331229\n",
      "+++++++++++++++++   sonar-custom-rules-examples  +++++++++++++++++\n",
      "0.3282656615377458\n",
      "+++++++++++++++++   Intro-To-RxJava  +++++++++++++++++\n",
      "0.6204839900495387\n",
      "+++++++++++++++++   Swipeable-Cards  +++++++++++++++++\n",
      "0.6816599883082031\n",
      "+++++++++++++++++   RootTools  +++++++++++++++++\n",
      "0.6217337381052243\n",
      "+++++++++++++++++   Hacktoberfest-Data-Structure-and-Algorithms  +++++++++++++++++\n",
      "0.7981551379361989\n",
      "+++++++++++++++++   ToggleButton  +++++++++++++++++\n",
      "0.5444912652401301\n",
      "+++++++++++++++++   2048-android  +++++++++++++++++\n",
      "0.39859821690759323\n",
      "+++++++++++++++++   cobar  +++++++++++++++++\n",
      "0.2222609007402646\n",
      "+++++++++++++++++   SmartTabLayout  +++++++++++++++++\n",
      "0.5833983545961486\n",
      "+++++++++++++++++   android-backup-extractor  +++++++++++++++++\n",
      "0.49803955585790066\n",
      "+++++++++++++++++   cloudwatch_exporter  +++++++++++++++++\n",
      "0.6451497529482926\n",
      "+++++++++++++++++   react-native-webview-android  +++++++++++++++++\n",
      "0.40884601888127403\n",
      "+++++++++++++++++   Shuffle  +++++++++++++++++\n",
      "0.5626762776412703\n",
      "+++++++++++++++++   AutoEx  +++++++++++++++++\n",
      "0.7755143750779815\n",
      "+++++++++++++++++   react-native-quick-actions  +++++++++++++++++\n",
      "0.4358009644552832\n",
      "+++++++++++++++++   TimetableView  +++++++++++++++++\n",
      "0.8005509636664614\n",
      "+++++++++++++++++   ViewSupport  +++++++++++++++++\n",
      "0.6265928251659251\n",
      "+++++++++++++++++   Isometric  +++++++++++++++++\n",
      "0.6298852396076795\n",
      "+++++++++++++++++   SHSegmentControl  +++++++++++++++++\n",
      "0.6630630280030592\n",
      "+++++++++++++++++   MaterialAbout  +++++++++++++++++\n",
      "0.655396564876056\n",
      "+++++++++++++++++   Competitive-programming-library  +++++++++++++++++\n",
      "0.6254629243205413\n",
      "+++++++++++++++++   TubeMQ  +++++++++++++++++\n",
      "0.6172077912734648\n",
      "+++++++++++++++++   android-actionbar  +++++++++++++++++\n",
      "0.4576380640850983\n",
      "+++++++++++++++++   aws-big-data-blog  +++++++++++++++++\n",
      "0.37253686248373985\n",
      "+++++++++++++++++   BarcodeScanner  +++++++++++++++++\n",
      "0.47989319720594265\n",
      "+++++++++++++++++   io2015-codelabs  +++++++++++++++++\n",
      "0.4496556001482178\n"
     ]
    }
   ],
   "source": [
    "project_corr = {}\n",
    "for project in projects[0:100]:\n",
    "    try:\n",
    "        if project == '.DS_Store':\n",
    "            continue\n",
    "#         if project != 'Pokemap':\n",
    "#             continue\n",
    "        print(\"+++++++++++++++++   \"  + project + \"  +++++++++++++++++\")\n",
    "        df = load_data(project)\n",
    "        corr = get_spearmanr(df)\n",
    "        project_corr[project] = corr\n",
    "        print(np.median(corr))\n",
    "    except Exception as e:\n",
    "        print(e)\n",
    "        continue\n",
    "with open('results/Performance/process_corr.pkl', 'wb') as handle:\n",
    "    pickle.dump(project_corr, handle, protocol=pickle.HIGHEST_PROTOCOL)"
   ]
  },
  {
   "cell_type": "code",
   "execution_count": 10,
   "metadata": {},
   "outputs": [
    {
     "data": {
      "image/png": "[encoded data removed]",
      "text/plain": [
       "<Figure size 432x288 with 1 Axes>"
      ]
     },
     "metadata": {
      "needs_background": "light"
     },
     "output_type": "display_data"
    }
   ],
   "source": [
    "project_corr = pd.read_pickle('results/Performance/process_corr.pkl')\n",
    "flat_list = [item for sublist in list(project_corr.values()) for item in sublist]\n",
    "ax = sns.violinplot(y=flat_list)"
   ]
  },
  {
   "cell_type": "code",
   "execution_count": 11,
   "metadata": {},
   "outputs": [
    {
     "data": {
      "image/png": "[encoded data removed]",
      "text/plain": [
       "<Figure size 432x288 with 1 Axes>"
      ]
     },
     "metadata": {
      "needs_background": "light"
     },
     "output_type": "display_data"
    }
   ],
   "source": [
    "project_corr = pd.read_pickle('results/Performance/product_corr.pkl')\n",
    "flat_list = [item for sublist in list(project_corr.values()) for item in sublist]\n",
    "ax = sns.violinplot(y=flat_list)"
   ]
  },
  {
   "cell_type": "code",
   "execution_count": 12,
   "metadata": {},
   "outputs": [
    {
     "data": {
      "image/png": "[encoded data removed]",
      "text/plain": [
       "<Figure size 432x288 with 1 Axes>"
      ]
     },
     "metadata": {
      "needs_background": "light"
     },
     "output_type": "display_data"
    }
   ],
   "source": [
    "project_corr = pd.read_pickle('results/Performance/product+process_corr.pkl')\n",
    "flat_list = [item for sublist in list(project_corr.values()) for item in sublist]\n",
    "ax = sns.violinplot(y=flat_list)"
   ]
  },
  {
   "cell_type": "code",
   "execution_count": 1,
   "metadata": {},
   "outputs": [],
   "source": [
    "x = {'a':10,'b':20}"
   ]
  },
  {
   "cell_type": "code",
   "execution_count": 3,
   "metadata": {},
   "outputs": [
    {
     "data": {
      "text/plain": [
       "30"
      ]
     },
     "execution_count": 3,
     "metadata": {},
     "output_type": "execute_result"
    }
   ],
   "source": [
    "sum(x.values())"
   ]
  },
  {
   "cell_type": "code",
   "execution_count": 7,
   "metadata": {},
   "outputs": [
    {
     "name": "stdout",
     "output_type": "stream",
     "text": [
      "10\n",
      "9\n",
      "8\n",
      "7\n",
      "6\n",
      "5\n",
      "4\n",
      "3\n",
      "2\n",
      "1\n"
     ]
    }
   ],
   "source": [
    "x = [1,2,3,4,5,6,7,8,9,10]\n",
    "for i in range(len(x)-1,-1,-1):\n",
    "    print(x[i])"
   ]
  },
  {
   "cell_type": "code",
   "execution_count": null,
   "metadata": {},
   "outputs": [],
   "source": []
  }
 ],
 "metadata": {
  "kernelspec": {
   "display_name": "Python 3",
   "language": "python",
   "name": "python3"
  },
  "language_info": {
   "codemirror_mode": {
    "name": "ipython",
    "version": 3
   },
   "file_extension": ".py",
   "mimetype": "text/x-python",
   "name": "python",
   "nbconvert_exporter": "python",
   "pygments_lexer": "ipython3",
   "version": "3.7.3"
  }
 },
 "nbformat": 4,
 "nbformat_minor": 2
}
