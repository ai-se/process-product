{
 "cells": [
  {
   "cell_type": "code",
   "execution_count": 1,
   "metadata": {},
   "outputs": [],
   "source": [
    "import pandas as pd\n",
    "import numpy as np\n",
    "from scipy import stats\n",
    "import scipy.io\n",
    "from scipy.spatial.distance import pdist\n",
    "from scipy.linalg import cholesky\n",
    "import matlab.engine as engi\n",
    "import matlab as mat\n",
    "import math\n",
    "from sklearn.linear_model import LogisticRegression\n",
    "from sklearn.metrics import classification_report\n",
    "from sklearn.decomposition import PCA\n",
    "from scipy.io import loadmat\n",
    "import matplotlib.pyplot as plt\n",
    "from sklearn.metrics import pairwise_distances\n",
    "from sys import stdout\n",
    "from sklearn.metrics import pairwise_kernels\n",
    "from sklearn.cluster import DBSCAN\n",
    "\n",
    "import platform\n",
    "from os import listdir\n",
    "from os.path import isfile, join\n",
    "from glob import glob\n",
    "from pathlib import Path\n",
    "import sys\n",
    "import os\n",
    "import copy\n",
    "import traceback\n",
    "from pathlib import Path\n",
    "\n",
    "eng = engi.start_matlab()\n",
    "eng.addpath(r'matlab_CTKCCA/',nargout=0)"
   ]
  },
  {
   "cell_type": "code",
   "execution_count": 2,
   "metadata": {},
   "outputs": [],
   "source": [
    "data_source = 'data/All'\n",
    "if platform.system() == 'Darwin' or platform.system() == 'Linux':\n",
    "    _dir = data_source + '/'\n",
    "else:\n",
    "    _dir = data_source + '\\\\'\n",
    "\n",
    "datasets = [(join(_dir, f)) for f in listdir(_dir) if  not Path(join(_dir, f)).is_dir()]"
   ]
  },
  {
   "cell_type": "code",
   "execution_count": 3,
   "metadata": {},
   "outputs": [],
   "source": [
    "def load_data(path):\n",
    "    df = pd.read_csv(path)\n",
    "    print(path)\n",
    "    df_columns = df.columns\n",
    "    _temp = []\n",
    "    for col in df_columns:\n",
    "        col = col.replace('$','')\n",
    "        col = col.replace('>','')\n",
    "        col = col.replace('<','')\n",
    "        _temp.append(col)\n",
    "    df.columns = _temp\n",
    "    defect_values = df[df.columns[-1]].unique()\n",
    "    d = {}\n",
    "    if 'F' in defect_values:\n",
    "        d = {'T': True, 'F': False}\n",
    "        df[df.columns[-1]] = df[df.columns[-1]].map(d)\n",
    "    return df\n",
    "\n",
    "def transform_data(source_df,target_df):\n",
    "    mat_source_df = mat.double(source_df.values.T.tolist())\n",
    "    mat_target_df = mat.double(target_df.values.T.tolist())\n",
    "    X = eng.CTKCCA(mat_source_df,mat_target_df,nargout=4)\n",
    "    train_X,train_y = np.array(X[0]),np.array(X[1]).tolist()[0]\n",
    "    test_X,test_y = np.array(X[2]),np.array(X[3]).tolist()[0]\n",
    "    return train_X,train_y,test_X,test_y"
   ]
  },
  {
   "cell_type": "code",
   "execution_count": null,
   "metadata": {},
   "outputs": [],
   "source": [
    "results_dist = {}\n",
    "results_p = {}\n",
    "results = []\n",
    "for s_project in datasets:\n",
    "    results_dist[s_project] = {}\n",
    "    results_p[s_project] = {}\n",
    "    for d_project in datasets:\n",
    "        if s_project == d_project:\n",
    "            continue\n",
    "        source_df = load_data(s_project)\n",
    "        target_df = load_data(d_project)\n",
    "        if source_df.shape[1] != target_df.shape[1]:\n",
    "            continue\n",
    "        source_df = source_df[source_df.columns[:len(source_df.columns)-1]]\n",
    "        target_df = target_df[target_df.columns[:len(target_df.columns)-1]]\n",
    "        dist = pairwise_distances(source_df,target_df,metric='cosine')\n",
    "        x = []\n",
    "        for _dist in dist:\n",
    "            x.append(np.median(_dist))\n",
    "        x = np.median(x)\n",
    "        results_dist[s_project][d_project] = x\n",
    "df = pd.DataFrame.from_dict(results_dist,orient='index')"
   ]
  },
  {
   "cell_type": "code",
   "execution_count": 5,
   "metadata": {},
   "outputs": [
    {
     "name": "stderr",
     "output_type": "stream",
     "text": [
      "/Users/suvodeepmajumder/Conda/anaconda3/lib/python3.7/site-packages/ipykernel_launcher.py:3: FutureWarning: Using a non-tuple sequence for multidimensional indexing is deprecated; use `arr[tuple(seq)]` instead of `arr[seq]`. In the future this will be interpreted as an array index, `arr[np.array(seq)]`, which will result either in an error or a different result.\n",
      "  This is separate from the ipykernel package so we can avoid doing imports until\n"
     ]
    }
   ],
   "source": [
    "results_dist = pd.read_csv('results/MMD/MMD_100_full.csv',index_col=0)\n",
    "df_MMD_updated = results_dist.abs()\n",
    "df_MMD_updated.values[[np.arange(df_MMD_updated.shape[0])]*2] = 0"
   ]
  },
  {
   "cell_type": "code",
   "execution_count": 6,
   "metadata": {},
   "outputs": [
    {
     "data": {
      "text/plain": [
       "array([ 0,  0,  0,  0,  0,  0,  0,  0,  0,  0,  0,  0,  0,  0,  0,  0,  0,\n",
       "        0,  0,  0,  0,  0,  0,  0,  0,  0,  0,  0,  0,  0, -1,  0,  0, -1,\n",
       "        0,  0,  0,  0,  0,  0,  0,  0,  0,  0,  0,  0,  0,  0,  0, -1,  0,\n",
       "        0,  0,  0,  0,  0,  0,  0,  0,  0,  0,  0,  0,  0,  0,  0,  0,  0,\n",
       "        0,  0,  0,  0,  0,  0,  0,  0,  0,  0,  0,  0,  0,  0,  0,  0,  0,\n",
       "        0,  0,  0,  0,  0,  0,  0,  0,  0,  0,  0,  0,  0,  0,  0,  0,  0,\n",
       "        0,  0,  0,  0,  0,  0,  0,  0,  0,  0,  0,  0,  0,  0,  0,  0,  0,\n",
       "        0,  0])"
      ]
     },
     "execution_count": 6,
     "metadata": {},
     "output_type": "execute_result"
    }
   ],
   "source": [
    "from sklearn.cluster import DBSCAN\n",
    "clustering = DBSCAN(eps=0.2, min_samples=5,metric='precomputed').fit(df_MMD_updated)\n",
    "clustering.labels_"
   ]
  },
  {
   "cell_type": "code",
   "execution_count": 7,
   "metadata": {},
   "outputs": [
    {
     "data": {
      "text/plain": [
       "array([0, 0, 0, 0, 0, 0, 0, 0, 0, 0, 0, 0, 0, 0, 0, 0, 0, 0, 0, 0, 0, 0,\n",
       "       0, 0, 0, 0, 0, 0, 0, 0, 0, 0, 0, 1, 0, 0, 0, 0, 0, 0, 0, 0, 0, 0,\n",
       "       0, 0, 0, 0, 0, 0, 0, 0, 0, 0, 0, 0, 0, 0, 0, 0, 0, 0, 0, 0, 0, 0,\n",
       "       0, 0, 0, 0, 0, 0, 0, 0, 0, 0, 0, 0, 0, 0, 0, 0, 0, 0, 0, 0, 0, 0,\n",
       "       0, 0, 0, 0, 0, 0, 0, 0, 0, 0, 0, 0, 0, 0, 0, 0, 0, 0, 0, 0, 0, 0,\n",
       "       0, 0, 0, 0, 0, 0, 0, 0, 0, 0, 0])"
      ]
     },
     "execution_count": 7,
     "metadata": {},
     "output_type": "execute_result"
    }
   ],
   "source": [
    "from sklearn.cluster import AgglomerativeClustering\n",
    "clustering = AgglomerativeClustering(n_clusters=None,affinity='precomputed',\n",
    "                                     distance_threshold=0.6,linkage='average').fit(df_MMD_updated)\n",
    "clustering.labels_"
   ]
  },
  {
   "cell_type": "code",
   "execution_count": 8,
   "metadata": {},
   "outputs": [
    {
     "data": {
      "text/plain": [
       "array([3, 1, 1, 3, 0, 1, 1, 1, 1, 1, 1, 1, 3, 0, 1, 1, 3, 1, 1, 3, 3, 3,\n",
       "       1, 1, 1, 2, 3, 0, 0, 0, 3, 1, 3, 3, 1, 3, 3, 0, 1, 0, 0, 1, 3, 1,\n",
       "       1, 3, 0, 0, 1, 1, 3, 1, 3, 3, 0, 3, 3, 0, 1, 0, 3, 0, 1, 3, 1, 3,\n",
       "       0, 3, 3, 3, 0, 0, 1, 0, 0, 1, 1, 3, 3, 1, 3, 3, 1, 1, 1, 1, 3, 0,\n",
       "       0, 3, 1, 3, 1, 0, 3, 0, 3, 0, 1, 1, 1, 0, 3, 1, 1, 1, 1, 1, 1, 3,\n",
       "       1, 0, 0, 1, 0, 3, 1, 1, 1, 1, 3], dtype=int32)"
      ]
     },
     "execution_count": 8,
     "metadata": {},
     "output_type": "execute_result"
    }
   ],
   "source": [
    "from sklearn.cluster import SpectralClustering\n",
    "clustering = SpectralClustering(n_clusters=4,affinity='precomputed').fit(df_MMD_updated)\n",
    "clustering.labels_"
   ]
  },
  {
   "cell_type": "code",
   "execution_count": 16,
   "metadata": {},
   "outputs": [],
   "source": [
    "clusters = zip(df_MMD_updated.index.tolist(),clustering.labels_.tolist())"
   ]
  },
  {
   "cell_type": "code",
   "execution_count": 17,
   "metadata": {},
   "outputs": [],
   "source": [
    "result = {}\n",
    "for cluster in clusters:\n",
    "    if cluster[1] not in result.keys():\n",
    "        result[cluster[1]] = []\n",
    "    result[cluster[1]].append(cluster[0])"
   ]
  },
  {
   "cell_type": "code",
   "execution_count": 18,
   "metadata": {},
   "outputs": [
    {
     "data": {
      "text/plain": [
       "{0: ['ActionBarSherlock',\n",
       "  'Android-Orma',\n",
       "  'DaggerMock',\n",
       "  'Digital',\n",
       "  'Discord4J',\n",
       "  'Easer',\n",
       "  'JSONassert',\n",
       "  'MaterialScrollBar',\n",
       "  'Much-Assembly-Required',\n",
       "  'OpenRefine',\n",
       "  'Sudachi',\n",
       "  'android-test',\n",
       "  'android-transcoder',\n",
       "  'androidannotations',\n",
       "  'app-icon',\n",
       "  'arara',\n",
       "  'archaius',\n",
       "  'chunky',\n",
       "  'dcevm',\n",
       "  'digdag',\n",
       "  'druid',\n",
       "  'easygcm',\n",
       "  'facebook-android-sdk',\n",
       "  'fdb-record-layer',\n",
       "  'freeline',\n",
       "  'getdown',\n",
       "  'guice',\n",
       "  'intellij-elixir',\n",
       "  'intellij-plugin-save-actions',\n",
       "  'jBrowserDriver',\n",
       "  'jboss-eap-quickstarts',\n",
       "  'jedis',\n",
       "  'metacat',\n",
       "  'nakadi',\n",
       "  'nokogiri',\n",
       "  'nzbhydra2',\n",
       "  'openrouteservice',\n",
       "  'org.alloytools.alloy',\n",
       "  'pacbot',\n",
       "  'phpinspectionsea',\n",
       "  'pojobuilder',\n",
       "  'qpython',\n",
       "  'react-native-background-job',\n",
       "  'roboguice',\n",
       "  's3proxy',\n",
       "  'scoop',\n",
       "  'sofa-tracer',\n",
       "  'swipe-button',\n",
       "  'tikxml'],\n",
       " 1: ['Android-ObservableScrollView',\n",
       "  'EclipseCodeFormatter',\n",
       "  'Elephant',\n",
       "  'FreeBuilder',\n",
       "  'Hystrix',\n",
       "  'RustDT',\n",
       "  'SuperListview',\n",
       "  'amidst',\n",
       "  'android-ago',\n",
       "  'cassandra-lucene-index',\n",
       "  'clean-status-bar',\n",
       "  'couchdb-lucene',\n",
       "  'cyclops-integration',\n",
       "  'derive4j',\n",
       "  'dns66',\n",
       "  'docker-compose-rule',\n",
       "  'dropwizard',\n",
       "  'eo',\n",
       "  'fragmentargs',\n",
       "  'heroic',\n",
       "  'iceberg',\n",
       "  'ion-java',\n",
       "  'java-object-diff',\n",
       "  'kafkahq',\n",
       "  'loklak_wok_android',\n",
       "  'macrobase',\n",
       "  'manifold',\n",
       "  'material-remixer-android',\n",
       "  'opsu',\n",
       "  'pgjdbc-ng',\n",
       "  'polyglot',\n",
       "  'progressbar',\n",
       "  'qbit',\n",
       "  'rapidoid',\n",
       "  'react-native-dialogs',\n",
       "  'react-native-sensitive-info',\n",
       "  'rxjava-jdbc',\n",
       "  'signal-cli',\n",
       "  'spectator',\n",
       "  'spring-javaformat',\n",
       "  'springside4',\n",
       "  'sqlite-android',\n",
       "  'subclipse',\n",
       "  'thingsboard',\n",
       "  'truetime-android',\n",
       "  'uhabits'],\n",
       " 3: ['AndroidAsync',\n",
       "  'BiglyBT',\n",
       "  'Grammar-Kit',\n",
       "  'RxJavaFX',\n",
       "  'SoLoader',\n",
       "  'SpringCloud',\n",
       "  'Telegram',\n",
       "  'TrebleShot',\n",
       "  'UpdateChecker',\n",
       "  'blueflood',\n",
       "  'disruptor',\n",
       "  'graphicsfuzz',\n",
       "  'hollow',\n",
       "  'jsoup',\n",
       "  'jsweet',\n",
       "  'metrics',\n",
       "  'moditect',\n",
       "  'parquet-mr',\n",
       "  'pebble',\n",
       "  'phoenicis',\n",
       "  'picasso',\n",
       "  'postgres-async-driver',\n",
       "  'project-rome',\n",
       "  'react-native-screens',\n",
       "  'vulnerability-assessment-tool'],\n",
       " 2: ['Telegram-FOSS']}"
      ]
     },
     "execution_count": 18,
     "metadata": {},
     "output_type": "execute_result"
    }
   ],
   "source": [
    "result"
   ]
  },
  {
   "cell_type": "code",
   "execution_count": null,
   "metadata": {},
   "outputs": [],
   "source": []
  }
 ],
 "metadata": {
  "kernelspec": {
   "display_name": "Python 3",
   "language": "python",
   "name": "python3"
  },
  "language_info": {
   "codemirror_mode": {
    "name": "ipython",
    "version": 3
   },
   "file_extension": ".py",
   "mimetype": "text/x-python",
   "name": "python",
   "nbconvert_exporter": "python",
   "pygments_lexer": "ipython3",
   "version": "3.7.3"
  }
 },
 "nbformat": 4,
 "nbformat_minor": 2
}
